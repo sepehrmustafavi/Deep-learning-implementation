{
  "nbformat": 4,
  "nbformat_minor": 0,
  "metadata": {
    "colab": {
      "provenance": [],
      "gpuType": "T4"
    },
    "kernelspec": {
      "name": "python3",
      "display_name": "Python 3"
    },
    "language_info": {
      "name": "python"
    },
    "accelerator": "GPU"
  },
  "cells": [
    {
      "cell_type": "code",
      "source": [
        "import tensorflow as tf\n",
        "import matplotlib.pyplot as plt"
      ],
      "metadata": {
        "id": "EiqSaZ4-yvtK"
      },
      "execution_count": 5,
      "outputs": []
    },
    {
      "cell_type": "code",
      "source": [
        "fashion_mnist = tf.keras.datasets.fashion_mnist"
      ],
      "metadata": {
        "id": "OFYX8IUUy2xH"
      },
      "execution_count": 6,
      "outputs": []
    },
    {
      "cell_type": "code",
      "source": [
        "(x_train , y_train) , (x_test , y_test) = fashion_mnist.load_data()"
      ],
      "metadata": {
        "id": "85-x9i44y-CO"
      },
      "execution_count": 7,
      "outputs": []
    },
    {
      "cell_type": "code",
      "source": [
        "x_train.shape"
      ],
      "metadata": {
        "colab": {
          "base_uri": "https://localhost:8080/"
        },
        "id": "6vZQ_M-WzJoo",
        "outputId": "6e1735d0-99ec-4ec4-bc39-4d79bed26e4e"
      },
      "execution_count": 8,
      "outputs": [
        {
          "output_type": "execute_result",
          "data": {
            "text/plain": [
              "(60000, 28, 28)"
            ]
          },
          "metadata": {},
          "execution_count": 8
        }
      ]
    },
    {
      "cell_type": "code",
      "source": [
        "x_test.shape"
      ],
      "metadata": {
        "colab": {
          "base_uri": "https://localhost:8080/"
        },
        "id": "Taa8cvKSzLxX",
        "outputId": "103e752f-c272-44c6-a567-fe5a06e6d134"
      },
      "execution_count": 9,
      "outputs": [
        {
          "output_type": "execute_result",
          "data": {
            "text/plain": [
              "(10000, 28, 28)"
            ]
          },
          "metadata": {},
          "execution_count": 9
        }
      ]
    },
    {
      "cell_type": "code",
      "source": [
        "y_train.shape"
      ],
      "metadata": {
        "colab": {
          "base_uri": "https://localhost:8080/"
        },
        "id": "rh6A-txMzOdj",
        "outputId": "f3953397-e0c8-423e-8647-ac87460840d2"
      },
      "execution_count": 10,
      "outputs": [
        {
          "output_type": "execute_result",
          "data": {
            "text/plain": [
              "(60000,)"
            ]
          },
          "metadata": {},
          "execution_count": 10
        }
      ]
    },
    {
      "cell_type": "code",
      "source": [
        "y_test.shape"
      ],
      "metadata": {
        "colab": {
          "base_uri": "https://localhost:8080/"
        },
        "id": "aRwjk2p_zQjT",
        "outputId": "0b55edbd-2081-4d77-dffd-002edde50809"
      },
      "execution_count": 11,
      "outputs": [
        {
          "output_type": "execute_result",
          "data": {
            "text/plain": [
              "(10000,)"
            ]
          },
          "metadata": {},
          "execution_count": 11
        }
      ]
    },
    {
      "cell_type": "code",
      "source": [
        "x_train = x_train / 255\n",
        "x_test = x_test / 255"
      ],
      "metadata": {
        "id": "DD3IMy14zS1b"
      },
      "execution_count": 12,
      "outputs": []
    },
    {
      "cell_type": "code",
      "source": [
        "model = tf.keras.models.Sequential(\n",
        "    [\n",
        "        tf.keras.layers.Flatten(input_shape = (28 , 28)),\n",
        "        tf.keras.layers.Dense(units=128 , activation='relu'),\n",
        "        tf.keras.layers.Dense(units=64 , activation='relu'),\n",
        "        tf.keras.layers.Dense(units=10 , activation='softmax')\n",
        "    ]\n",
        ")"
      ],
      "metadata": {
        "colab": {
          "base_uri": "https://localhost:8080/"
        },
        "id": "3yvNtbgYz1xI",
        "outputId": "8d2874b5-a63d-4c85-fcb6-7490acb0e65e"
      },
      "execution_count": 13,
      "outputs": [
        {
          "output_type": "stream",
          "name": "stderr",
          "text": [
            "/usr/local/lib/python3.10/dist-packages/keras/src/layers/reshaping/flatten.py:37: UserWarning: Do not pass an `input_shape`/`input_dim` argument to a layer. When using Sequential models, prefer using an `Input(shape)` object as the first layer in the model instead.\n",
            "  super().__init__(**kwargs)\n"
          ]
        }
      ]
    },
    {
      "cell_type": "code",
      "source": [
        "model.summary()"
      ],
      "metadata": {
        "colab": {
          "base_uri": "https://localhost:8080/",
          "height": 265
        },
        "id": "gWYObNJr02Xp",
        "outputId": "1da3f41e-f98a-4f7c-dc88-f9f879833634"
      },
      "execution_count": 14,
      "outputs": [
        {
          "output_type": "display_data",
          "data": {
            "text/plain": [
              "\u001b[1mModel: \"sequential\"\u001b[0m\n"
            ],
            "text/html": [
              "<pre style=\"white-space:pre;overflow-x:auto;line-height:normal;font-family:Menlo,'DejaVu Sans Mono',consolas,'Courier New',monospace\"><span style=\"font-weight: bold\">Model: \"sequential\"</span>\n",
              "</pre>\n"
            ]
          },
          "metadata": {}
        },
        {
          "output_type": "display_data",
          "data": {
            "text/plain": [
              "┏━━━━━━━━━━━━━━━━━━━━━━━━━━━━━━━━━━━━━━┳━━━━━━━━━━━━━━━━━━━━━━━━━━━━━┳━━━━━━━━━━━━━━━━━┓\n",
              "┃\u001b[1m \u001b[0m\u001b[1mLayer (type)                        \u001b[0m\u001b[1m \u001b[0m┃\u001b[1m \u001b[0m\u001b[1mOutput Shape               \u001b[0m\u001b[1m \u001b[0m┃\u001b[1m \u001b[0m\u001b[1m        Param #\u001b[0m\u001b[1m \u001b[0m┃\n",
              "┡━━━━━━━━━━━━━━━━━━━━━━━━━━━━━━━━━━━━━━╇━━━━━━━━━━━━━━━━━━━━━━━━━━━━━╇━━━━━━━━━━━━━━━━━┩\n",
              "│ flatten (\u001b[38;5;33mFlatten\u001b[0m)                    │ (\u001b[38;5;45mNone\u001b[0m, \u001b[38;5;34m784\u001b[0m)                 │               \u001b[38;5;34m0\u001b[0m │\n",
              "├──────────────────────────────────────┼─────────────────────────────┼─────────────────┤\n",
              "│ dense (\u001b[38;5;33mDense\u001b[0m)                        │ (\u001b[38;5;45mNone\u001b[0m, \u001b[38;5;34m128\u001b[0m)                 │         \u001b[38;5;34m100,480\u001b[0m │\n",
              "├──────────────────────────────────────┼─────────────────────────────┼─────────────────┤\n",
              "│ dense_1 (\u001b[38;5;33mDense\u001b[0m)                      │ (\u001b[38;5;45mNone\u001b[0m, \u001b[38;5;34m64\u001b[0m)                  │           \u001b[38;5;34m8,256\u001b[0m │\n",
              "├──────────────────────────────────────┼─────────────────────────────┼─────────────────┤\n",
              "│ dense_2 (\u001b[38;5;33mDense\u001b[0m)                      │ (\u001b[38;5;45mNone\u001b[0m, \u001b[38;5;34m10\u001b[0m)                  │             \u001b[38;5;34m650\u001b[0m │\n",
              "└──────────────────────────────────────┴─────────────────────────────┴─────────────────┘\n"
            ],
            "text/html": [
              "<pre style=\"white-space:pre;overflow-x:auto;line-height:normal;font-family:Menlo,'DejaVu Sans Mono',consolas,'Courier New',monospace\">┏━━━━━━━━━━━━━━━━━━━━━━━━━━━━━━━━━━━━━━┳━━━━━━━━━━━━━━━━━━━━━━━━━━━━━┳━━━━━━━━━━━━━━━━━┓\n",
              "┃<span style=\"font-weight: bold\"> Layer (type)                         </span>┃<span style=\"font-weight: bold\"> Output Shape                </span>┃<span style=\"font-weight: bold\">         Param # </span>┃\n",
              "┡━━━━━━━━━━━━━━━━━━━━━━━━━━━━━━━━━━━━━━╇━━━━━━━━━━━━━━━━━━━━━━━━━━━━━╇━━━━━━━━━━━━━━━━━┩\n",
              "│ flatten (<span style=\"color: #0087ff; text-decoration-color: #0087ff\">Flatten</span>)                    │ (<span style=\"color: #00d7ff; text-decoration-color: #00d7ff\">None</span>, <span style=\"color: #00af00; text-decoration-color: #00af00\">784</span>)                 │               <span style=\"color: #00af00; text-decoration-color: #00af00\">0</span> │\n",
              "├──────────────────────────────────────┼─────────────────────────────┼─────────────────┤\n",
              "│ dense (<span style=\"color: #0087ff; text-decoration-color: #0087ff\">Dense</span>)                        │ (<span style=\"color: #00d7ff; text-decoration-color: #00d7ff\">None</span>, <span style=\"color: #00af00; text-decoration-color: #00af00\">128</span>)                 │         <span style=\"color: #00af00; text-decoration-color: #00af00\">100,480</span> │\n",
              "├──────────────────────────────────────┼─────────────────────────────┼─────────────────┤\n",
              "│ dense_1 (<span style=\"color: #0087ff; text-decoration-color: #0087ff\">Dense</span>)                      │ (<span style=\"color: #00d7ff; text-decoration-color: #00d7ff\">None</span>, <span style=\"color: #00af00; text-decoration-color: #00af00\">64</span>)                  │           <span style=\"color: #00af00; text-decoration-color: #00af00\">8,256</span> │\n",
              "├──────────────────────────────────────┼─────────────────────────────┼─────────────────┤\n",
              "│ dense_2 (<span style=\"color: #0087ff; text-decoration-color: #0087ff\">Dense</span>)                      │ (<span style=\"color: #00d7ff; text-decoration-color: #00d7ff\">None</span>, <span style=\"color: #00af00; text-decoration-color: #00af00\">10</span>)                  │             <span style=\"color: #00af00; text-decoration-color: #00af00\">650</span> │\n",
              "└──────────────────────────────────────┴─────────────────────────────┴─────────────────┘\n",
              "</pre>\n"
            ]
          },
          "metadata": {}
        },
        {
          "output_type": "display_data",
          "data": {
            "text/plain": [
              "\u001b[1m Total params: \u001b[0m\u001b[38;5;34m109,386\u001b[0m (427.29 KB)\n"
            ],
            "text/html": [
              "<pre style=\"white-space:pre;overflow-x:auto;line-height:normal;font-family:Menlo,'DejaVu Sans Mono',consolas,'Courier New',monospace\"><span style=\"font-weight: bold\"> Total params: </span><span style=\"color: #00af00; text-decoration-color: #00af00\">109,386</span> (427.29 KB)\n",
              "</pre>\n"
            ]
          },
          "metadata": {}
        },
        {
          "output_type": "display_data",
          "data": {
            "text/plain": [
              "\u001b[1m Trainable params: \u001b[0m\u001b[38;5;34m109,386\u001b[0m (427.29 KB)\n"
            ],
            "text/html": [
              "<pre style=\"white-space:pre;overflow-x:auto;line-height:normal;font-family:Menlo,'DejaVu Sans Mono',consolas,'Courier New',monospace\"><span style=\"font-weight: bold\"> Trainable params: </span><span style=\"color: #00af00; text-decoration-color: #00af00\">109,386</span> (427.29 KB)\n",
              "</pre>\n"
            ]
          },
          "metadata": {}
        },
        {
          "output_type": "display_data",
          "data": {
            "text/plain": [
              "\u001b[1m Non-trainable params: \u001b[0m\u001b[38;5;34m0\u001b[0m (0.00 B)\n"
            ],
            "text/html": [
              "<pre style=\"white-space:pre;overflow-x:auto;line-height:normal;font-family:Menlo,'DejaVu Sans Mono',consolas,'Courier New',monospace\"><span style=\"font-weight: bold\"> Non-trainable params: </span><span style=\"color: #00af00; text-decoration-color: #00af00\">0</span> (0.00 B)\n",
              "</pre>\n"
            ]
          },
          "metadata": {}
        }
      ]
    },
    {
      "cell_type": "code",
      "source": [
        "los = tf.keras.losses.SparseCategoricalCrossentropy()\n",
        "opt = tf.keras.optimizers.SGD(learning_rate=0.001 , momentum=0.4)\n",
        "model.compile(loss=los , optimizer=opt)"
      ],
      "metadata": {
        "id": "WkeDMLFK05K7"
      },
      "execution_count": 27,
      "outputs": []
    },
    {
      "cell_type": "code",
      "source": [
        "history = model.fit(x_train , y_train , epochs=200 , batch_size=100 , verbose=2)"
      ],
      "metadata": {
        "colab": {
          "base_uri": "https://localhost:8080/"
        },
        "id": "QfANdx_V1jH8",
        "outputId": "eb19ad99-33b7-44aa-9f0c-e1b30696f6ec"
      },
      "execution_count": 28,
      "outputs": [
        {
          "output_type": "stream",
          "name": "stdout",
          "text": [
            "Epoch 1/200\n",
            "600/600 - 3s - 5ms/step - loss: 1.7785\n",
            "Epoch 2/200\n",
            "600/600 - 1s - 1ms/step - loss: 1.1453\n",
            "Epoch 3/200\n",
            "600/600 - 1s - 1ms/step - loss: 0.9106\n",
            "Epoch 4/200\n",
            "600/600 - 1s - 2ms/step - loss: 0.8021\n",
            "Epoch 5/200\n",
            "600/600 - 2s - 3ms/step - loss: 0.7373\n",
            "Epoch 6/200\n",
            "600/600 - 1s - 2ms/step - loss: 0.6926\n",
            "Epoch 7/200\n",
            "600/600 - 1s - 1ms/step - loss: 0.6590\n",
            "Epoch 8/200\n",
            "600/600 - 1s - 1ms/step - loss: 0.6326\n",
            "Epoch 9/200\n",
            "600/600 - 1s - 1ms/step - loss: 0.6108\n",
            "Epoch 10/200\n",
            "600/600 - 1s - 2ms/step - loss: 0.5926\n",
            "Epoch 11/200\n",
            "600/600 - 1s - 2ms/step - loss: 0.5773\n",
            "Epoch 12/200\n",
            "600/600 - 1s - 1ms/step - loss: 0.5637\n",
            "Epoch 13/200\n",
            "600/600 - 1s - 1ms/step - loss: 0.5522\n",
            "Epoch 14/200\n",
            "600/600 - 1s - 1ms/step - loss: 0.5416\n",
            "Epoch 15/200\n",
            "600/600 - 1s - 1ms/step - loss: 0.5324\n",
            "Epoch 16/200\n",
            "600/600 - 1s - 2ms/step - loss: 0.5239\n",
            "Epoch 17/200\n",
            "600/600 - 1s - 2ms/step - loss: 0.5166\n",
            "Epoch 18/200\n",
            "600/600 - 1s - 2ms/step - loss: 0.5097\n",
            "Epoch 19/200\n",
            "600/600 - 1s - 1ms/step - loss: 0.5033\n",
            "Epoch 20/200\n",
            "600/600 - 1s - 1ms/step - loss: 0.4975\n",
            "Epoch 21/200\n",
            "600/600 - 1s - 1ms/step - loss: 0.4924\n",
            "Epoch 22/200\n",
            "600/600 - 1s - 1ms/step - loss: 0.4874\n",
            "Epoch 23/200\n",
            "600/600 - 1s - 2ms/step - loss: 0.4828\n",
            "Epoch 24/200\n",
            "600/600 - 1s - 2ms/step - loss: 0.4785\n",
            "Epoch 25/200\n",
            "600/600 - 1s - 1ms/step - loss: 0.4745\n",
            "Epoch 26/200\n",
            "600/600 - 1s - 1ms/step - loss: 0.4706\n",
            "Epoch 27/200\n",
            "600/600 - 1s - 1ms/step - loss: 0.4672\n",
            "Epoch 28/200\n",
            "600/600 - 1s - 2ms/step - loss: 0.4636\n",
            "Epoch 29/200\n",
            "600/600 - 1s - 1ms/step - loss: 0.4605\n",
            "Epoch 30/200\n",
            "600/600 - 1s - 2ms/step - loss: 0.4574\n",
            "Epoch 31/200\n",
            "600/600 - 1s - 2ms/step - loss: 0.4546\n",
            "Epoch 32/200\n",
            "600/600 - 1s - 1ms/step - loss: 0.4517\n",
            "Epoch 33/200\n",
            "600/600 - 1s - 1ms/step - loss: 0.4491\n",
            "Epoch 34/200\n",
            "600/600 - 1s - 2ms/step - loss: 0.4464\n",
            "Epoch 35/200\n",
            "600/600 - 1s - 2ms/step - loss: 0.4440\n",
            "Epoch 36/200\n",
            "600/600 - 1s - 1ms/step - loss: 0.4417\n",
            "Epoch 37/200\n",
            "600/600 - 1s - 2ms/step - loss: 0.4395\n",
            "Epoch 38/200\n",
            "600/600 - 1s - 1ms/step - loss: 0.4369\n",
            "Epoch 39/200\n",
            "600/600 - 1s - 2ms/step - loss: 0.4350\n",
            "Epoch 40/200\n",
            "600/600 - 1s - 2ms/step - loss: 0.4330\n",
            "Epoch 41/200\n",
            "600/600 - 2s - 3ms/step - loss: 0.4309\n",
            "Epoch 42/200\n",
            "600/600 - 1s - 2ms/step - loss: 0.4290\n",
            "Epoch 43/200\n",
            "600/600 - 1s - 1ms/step - loss: 0.4271\n",
            "Epoch 44/200\n",
            "600/600 - 1s - 1ms/step - loss: 0.4253\n",
            "Epoch 45/200\n",
            "600/600 - 1s - 1ms/step - loss: 0.4236\n",
            "Epoch 46/200\n",
            "600/600 - 1s - 1ms/step - loss: 0.4216\n",
            "Epoch 47/200\n",
            "600/600 - 1s - 1ms/step - loss: 0.4202\n",
            "Epoch 48/200\n",
            "600/600 - 1s - 1ms/step - loss: 0.4183\n",
            "Epoch 49/200\n",
            "600/600 - 1s - 1ms/step - loss: 0.4167\n",
            "Epoch 50/200\n",
            "600/600 - 1s - 1ms/step - loss: 0.4153\n",
            "Epoch 51/200\n",
            "600/600 - 1s - 1ms/step - loss: 0.4139\n",
            "Epoch 52/200\n",
            "600/600 - 1s - 2ms/step - loss: 0.4122\n",
            "Epoch 53/200\n",
            "600/600 - 1s - 2ms/step - loss: 0.4107\n",
            "Epoch 54/200\n",
            "600/600 - 1s - 2ms/step - loss: 0.4095\n",
            "Epoch 55/200\n",
            "600/600 - 1s - 2ms/step - loss: 0.4078\n",
            "Epoch 56/200\n",
            "600/600 - 1s - 1ms/step - loss: 0.4066\n",
            "Epoch 57/200\n",
            "600/600 - 1s - 2ms/step - loss: 0.4052\n",
            "Epoch 58/200\n",
            "600/600 - 1s - 2ms/step - loss: 0.4037\n",
            "Epoch 59/200\n",
            "600/600 - 1s - 2ms/step - loss: 0.4026\n",
            "Epoch 60/200\n",
            "600/600 - 1s - 2ms/step - loss: 0.4014\n",
            "Epoch 61/200\n",
            "600/600 - 1s - 2ms/step - loss: 0.4003\n",
            "Epoch 62/200\n",
            "600/600 - 1s - 2ms/step - loss: 0.3991\n",
            "Epoch 63/200\n",
            "600/600 - 1s - 2ms/step - loss: 0.3978\n",
            "Epoch 64/200\n",
            "600/600 - 1s - 2ms/step - loss: 0.3966\n",
            "Epoch 65/200\n",
            "600/600 - 1s - 2ms/step - loss: 0.3953\n",
            "Epoch 66/200\n",
            "600/600 - 1s - 2ms/step - loss: 0.3943\n",
            "Epoch 67/200\n",
            "600/600 - 1s - 2ms/step - loss: 0.3931\n",
            "Epoch 68/200\n",
            "600/600 - 1s - 1ms/step - loss: 0.3920\n",
            "Epoch 69/200\n",
            "600/600 - 1s - 2ms/step - loss: 0.3911\n",
            "Epoch 70/200\n",
            "600/600 - 1s - 2ms/step - loss: 0.3898\n",
            "Epoch 71/200\n",
            "600/600 - 1s - 1ms/step - loss: 0.3888\n",
            "Epoch 72/200\n",
            "600/600 - 1s - 2ms/step - loss: 0.3878\n",
            "Epoch 73/200\n",
            "600/600 - 1s - 1ms/step - loss: 0.3868\n",
            "Epoch 74/200\n",
            "600/600 - 1s - 2ms/step - loss: 0.3859\n",
            "Epoch 75/200\n",
            "600/600 - 1s - 1ms/step - loss: 0.3850\n",
            "Epoch 76/200\n",
            "600/600 - 1s - 2ms/step - loss: 0.3838\n",
            "Epoch 77/200\n",
            "600/600 - 2s - 3ms/step - loss: 0.3830\n",
            "Epoch 78/200\n",
            "600/600 - 1s - 2ms/step - loss: 0.3819\n",
            "Epoch 79/200\n",
            "600/600 - 1s - 1ms/step - loss: 0.3808\n",
            "Epoch 80/200\n",
            "600/600 - 1s - 2ms/step - loss: 0.3800\n",
            "Epoch 81/200\n",
            "600/600 - 1s - 1ms/step - loss: 0.3793\n",
            "Epoch 82/200\n",
            "600/600 - 1s - 1ms/step - loss: 0.3782\n",
            "Epoch 83/200\n",
            "600/600 - 1s - 1ms/step - loss: 0.3773\n",
            "Epoch 84/200\n",
            "600/600 - 1s - 2ms/step - loss: 0.3762\n",
            "Epoch 85/200\n",
            "600/600 - 1s - 1ms/step - loss: 0.3757\n",
            "Epoch 86/200\n",
            "600/600 - 1s - 1ms/step - loss: 0.3748\n",
            "Epoch 87/200\n",
            "600/600 - 1s - 1ms/step - loss: 0.3738\n",
            "Epoch 88/200\n",
            "600/600 - 1s - 1ms/step - loss: 0.3731\n",
            "Epoch 89/200\n",
            "600/600 - 1s - 2ms/step - loss: 0.3723\n",
            "Epoch 90/200\n",
            "600/600 - 1s - 2ms/step - loss: 0.3713\n",
            "Epoch 91/200\n",
            "600/600 - 1s - 2ms/step - loss: 0.3706\n",
            "Epoch 92/200\n",
            "600/600 - 1s - 1ms/step - loss: 0.3698\n",
            "Epoch 93/200\n",
            "600/600 - 1s - 2ms/step - loss: 0.3692\n",
            "Epoch 94/200\n",
            "600/600 - 1s - 1ms/step - loss: 0.3682\n",
            "Epoch 95/200\n",
            "600/600 - 1s - 1ms/step - loss: 0.3676\n",
            "Epoch 96/200\n",
            "600/600 - 1s - 1ms/step - loss: 0.3666\n",
            "Epoch 97/200\n",
            "600/600 - 1s - 2ms/step - loss: 0.3658\n",
            "Epoch 98/200\n",
            "600/600 - 1s - 1ms/step - loss: 0.3648\n",
            "Epoch 99/200\n",
            "600/600 - 1s - 1ms/step - loss: 0.3645\n",
            "Epoch 100/200\n",
            "600/600 - 1s - 2ms/step - loss: 0.3639\n",
            "Epoch 101/200\n",
            "600/600 - 1s - 1ms/step - loss: 0.3631\n",
            "Epoch 102/200\n",
            "600/600 - 2s - 3ms/step - loss: 0.3621\n",
            "Epoch 103/200\n",
            "600/600 - 1s - 2ms/step - loss: 0.3613\n",
            "Epoch 104/200\n",
            "600/600 - 1s - 1ms/step - loss: 0.3607\n",
            "Epoch 105/200\n",
            "600/600 - 1s - 1ms/step - loss: 0.3599\n",
            "Epoch 106/200\n",
            "600/600 - 1s - 1ms/step - loss: 0.3595\n",
            "Epoch 107/200\n",
            "600/600 - 1s - 2ms/step - loss: 0.3586\n",
            "Epoch 108/200\n",
            "600/600 - 1s - 2ms/step - loss: 0.3581\n",
            "Epoch 109/200\n",
            "600/600 - 1s - 1ms/step - loss: 0.3574\n",
            "Epoch 110/200\n",
            "600/600 - 1s - 1ms/step - loss: 0.3563\n",
            "Epoch 111/200\n",
            "600/600 - 1s - 2ms/step - loss: 0.3559\n",
            "Epoch 112/200\n",
            "600/600 - 1s - 1ms/step - loss: 0.3554\n",
            "Epoch 113/200\n",
            "600/600 - 1s - 1ms/step - loss: 0.3547\n",
            "Epoch 114/200\n",
            "600/600 - 2s - 3ms/step - loss: 0.3538\n",
            "Epoch 115/200\n",
            "600/600 - 1s - 2ms/step - loss: 0.3532\n",
            "Epoch 116/200\n",
            "600/600 - 1s - 2ms/step - loss: 0.3526\n",
            "Epoch 117/200\n",
            "600/600 - 1s - 2ms/step - loss: 0.3519\n",
            "Epoch 118/200\n",
            "600/600 - 1s - 2ms/step - loss: 0.3512\n",
            "Epoch 119/200\n",
            "600/600 - 1s - 2ms/step - loss: 0.3505\n",
            "Epoch 120/200\n",
            "600/600 - 1s - 1ms/step - loss: 0.3499\n",
            "Epoch 121/200\n",
            "600/600 - 1s - 1ms/step - loss: 0.3495\n",
            "Epoch 122/200\n",
            "600/600 - 1s - 1ms/step - loss: 0.3485\n",
            "Epoch 123/200\n",
            "600/600 - 1s - 1ms/step - loss: 0.3482\n",
            "Epoch 124/200\n",
            "600/600 - 1s - 1ms/step - loss: 0.3474\n",
            "Epoch 125/200\n",
            "600/600 - 1s - 2ms/step - loss: 0.3467\n",
            "Epoch 126/200\n",
            "600/600 - 1s - 2ms/step - loss: 0.3461\n",
            "Epoch 127/200\n",
            "600/600 - 1s - 2ms/step - loss: 0.3455\n",
            "Epoch 128/200\n",
            "600/600 - 1s - 2ms/step - loss: 0.3450\n",
            "Epoch 129/200\n",
            "600/600 - 1s - 1ms/step - loss: 0.3445\n",
            "Epoch 130/200\n",
            "600/600 - 1s - 1ms/step - loss: 0.3438\n",
            "Epoch 131/200\n",
            "600/600 - 1s - 1ms/step - loss: 0.3432\n",
            "Epoch 132/200\n",
            "600/600 - 1s - 1ms/step - loss: 0.3425\n",
            "Epoch 133/200\n",
            "600/600 - 1s - 1ms/step - loss: 0.3418\n",
            "Epoch 134/200\n",
            "600/600 - 1s - 2ms/step - loss: 0.3415\n",
            "Epoch 135/200\n",
            "600/600 - 1s - 1ms/step - loss: 0.3407\n",
            "Epoch 136/200\n",
            "600/600 - 1s - 1ms/step - loss: 0.3401\n",
            "Epoch 137/200\n",
            "600/600 - 1s - 1ms/step - loss: 0.3394\n",
            "Epoch 138/200\n",
            "600/600 - 2s - 3ms/step - loss: 0.3390\n",
            "Epoch 139/200\n",
            "600/600 - 1s - 2ms/step - loss: 0.3386\n",
            "Epoch 140/200\n",
            "600/600 - 1s - 1ms/step - loss: 0.3378\n",
            "Epoch 141/200\n",
            "600/600 - 1s - 2ms/step - loss: 0.3372\n",
            "Epoch 142/200\n",
            "600/600 - 1s - 1ms/step - loss: 0.3369\n",
            "Epoch 143/200\n",
            "600/600 - 1s - 1ms/step - loss: 0.3361\n",
            "Epoch 144/200\n",
            "600/600 - 1s - 1ms/step - loss: 0.3355\n",
            "Epoch 145/200\n",
            "600/600 - 1s - 1ms/step - loss: 0.3351\n",
            "Epoch 146/200\n",
            "600/600 - 1s - 2ms/step - loss: 0.3344\n",
            "Epoch 147/200\n",
            "600/600 - 1s - 2ms/step - loss: 0.3341\n",
            "Epoch 148/200\n",
            "600/600 - 1s - 2ms/step - loss: 0.3333\n",
            "Epoch 149/200\n",
            "600/600 - 1s - 2ms/step - loss: 0.3328\n",
            "Epoch 150/200\n",
            "600/600 - 1s - 2ms/step - loss: 0.3322\n",
            "Epoch 151/200\n",
            "600/600 - 1s - 2ms/step - loss: 0.3315\n",
            "Epoch 152/200\n",
            "600/600 - 1s - 2ms/step - loss: 0.3314\n",
            "Epoch 153/200\n",
            "600/600 - 1s - 1ms/step - loss: 0.3308\n",
            "Epoch 154/200\n",
            "600/600 - 1s - 1ms/step - loss: 0.3303\n",
            "Epoch 155/200\n",
            "600/600 - 1s - 1ms/step - loss: 0.3296\n",
            "Epoch 156/200\n",
            "600/600 - 1s - 2ms/step - loss: 0.3292\n",
            "Epoch 157/200\n",
            "600/600 - 1s - 1ms/step - loss: 0.3285\n",
            "Epoch 158/200\n",
            "600/600 - 1s - 1ms/step - loss: 0.3280\n",
            "Epoch 159/200\n",
            "600/600 - 1s - 2ms/step - loss: 0.3274\n",
            "Epoch 160/200\n",
            "600/600 - 1s - 1ms/step - loss: 0.3270\n",
            "Epoch 161/200\n",
            "600/600 - 2s - 3ms/step - loss: 0.3266\n",
            "Epoch 162/200\n",
            "600/600 - 1s - 2ms/step - loss: 0.3261\n",
            "Epoch 163/200\n",
            "600/600 - 1s - 2ms/step - loss: 0.3257\n",
            "Epoch 164/200\n",
            "600/600 - 1s - 2ms/step - loss: 0.3252\n",
            "Epoch 165/200\n",
            "600/600 - 1s - 2ms/step - loss: 0.3244\n",
            "Epoch 166/200\n",
            "600/600 - 1s - 1ms/step - loss: 0.3241\n",
            "Epoch 167/200\n",
            "600/600 - 1s - 2ms/step - loss: 0.3236\n",
            "Epoch 168/200\n",
            "600/600 - 1s - 1ms/step - loss: 0.3229\n",
            "Epoch 169/200\n",
            "600/600 - 1s - 1ms/step - loss: 0.3226\n",
            "Epoch 170/200\n",
            "600/600 - 1s - 2ms/step - loss: 0.3223\n",
            "Epoch 171/200\n",
            "600/600 - 1s - 1ms/step - loss: 0.3214\n",
            "Epoch 172/200\n",
            "600/600 - 1s - 2ms/step - loss: 0.3209\n",
            "Epoch 173/200\n",
            "600/600 - 2s - 3ms/step - loss: 0.3205\n",
            "Epoch 174/200\n",
            "600/600 - 1s - 2ms/step - loss: 0.3200\n",
            "Epoch 175/200\n",
            "600/600 - 1s - 2ms/step - loss: 0.3194\n",
            "Epoch 176/200\n",
            "600/600 - 1s - 2ms/step - loss: 0.3191\n",
            "Epoch 177/200\n",
            "600/600 - 1s - 2ms/step - loss: 0.3183\n",
            "Epoch 178/200\n",
            "600/600 - 1s - 2ms/step - loss: 0.3182\n",
            "Epoch 179/200\n",
            "600/600 - 1s - 2ms/step - loss: 0.3174\n",
            "Epoch 180/200\n",
            "600/600 - 1s - 2ms/step - loss: 0.3171\n",
            "Epoch 181/200\n",
            "600/600 - 1s - 2ms/step - loss: 0.3165\n",
            "Epoch 182/200\n",
            "600/600 - 1s - 1ms/step - loss: 0.3162\n",
            "Epoch 183/200\n",
            "600/600 - 2s - 3ms/step - loss: 0.3158\n",
            "Epoch 184/200\n",
            "600/600 - 1s - 2ms/step - loss: 0.3153\n",
            "Epoch 185/200\n",
            "600/600 - 1s - 2ms/step - loss: 0.3147\n",
            "Epoch 186/200\n",
            "600/600 - 1s - 1ms/step - loss: 0.3142\n",
            "Epoch 187/200\n",
            "600/600 - 1s - 1ms/step - loss: 0.3138\n",
            "Epoch 188/200\n",
            "600/600 - 1s - 1ms/step - loss: 0.3132\n",
            "Epoch 189/200\n",
            "600/600 - 1s - 2ms/step - loss: 0.3130\n",
            "Epoch 190/200\n",
            "600/600 - 1s - 2ms/step - loss: 0.3122\n",
            "Epoch 191/200\n",
            "600/600 - 1s - 1ms/step - loss: 0.3119\n",
            "Epoch 192/200\n",
            "600/600 - 1s - 1ms/step - loss: 0.3114\n",
            "Epoch 193/200\n",
            "600/600 - 1s - 2ms/step - loss: 0.3108\n",
            "Epoch 194/200\n",
            "600/600 - 1s - 2ms/step - loss: 0.3104\n",
            "Epoch 195/200\n",
            "600/600 - 1s - 2ms/step - loss: 0.3100\n",
            "Epoch 196/200\n",
            "600/600 - 1s - 2ms/step - loss: 0.3097\n",
            "Epoch 197/200\n",
            "600/600 - 1s - 2ms/step - loss: 0.3091\n",
            "Epoch 198/200\n",
            "600/600 - 1s - 2ms/step - loss: 0.3087\n",
            "Epoch 199/200\n",
            "600/600 - 1s - 1ms/step - loss: 0.3083\n",
            "Epoch 200/200\n",
            "600/600 - 1s - 2ms/step - loss: 0.3076\n"
          ]
        }
      ]
    },
    {
      "cell_type": "code",
      "source": [
        "model.evaluate(x_train , y_train)"
      ],
      "metadata": {
        "colab": {
          "base_uri": "https://localhost:8080/"
        },
        "id": "hwQXmoGL1rfz",
        "outputId": "6f06dae2-a230-40d6-ec84-3515db6c3203"
      },
      "execution_count": 30,
      "outputs": [
        {
          "output_type": "stream",
          "name": "stdout",
          "text": [
            "\u001b[1m1875/1875\u001b[0m \u001b[32m━━━━━━━━━━━━━━━━━━━━\u001b[0m\u001b[37m\u001b[0m \u001b[1m3s\u001b[0m 1ms/step - loss: 0.3042\n"
          ]
        },
        {
          "output_type": "execute_result",
          "data": {
            "text/plain": [
              "0.30565279722213745"
            ]
          },
          "metadata": {},
          "execution_count": 30
        }
      ]
    },
    {
      "cell_type": "code",
      "source": [
        "model.evaluate(x_test,y_test)"
      ],
      "metadata": {
        "colab": {
          "base_uri": "https://localhost:8080/"
        },
        "id": "k_bTRPkl33_I",
        "outputId": "b27fe25a-f476-4e12-84cb-8b9ce5352fd9"
      },
      "execution_count": 31,
      "outputs": [
        {
          "output_type": "stream",
          "name": "stdout",
          "text": [
            "\u001b[1m313/313\u001b[0m \u001b[32m━━━━━━━━━━━━━━━━━━━━\u001b[0m\u001b[37m\u001b[0m \u001b[1m1s\u001b[0m 3ms/step - loss: 0.3671\n"
          ]
        },
        {
          "output_type": "execute_result",
          "data": {
            "text/plain": [
              "0.36970970034599304"
            ]
          },
          "metadata": {},
          "execution_count": 31
        }
      ]
    },
    {
      "cell_type": "code",
      "source": [],
      "metadata": {
        "id": "soA0LcGz5QxD"
      },
      "execution_count": null,
      "outputs": []
    }
  ]
}