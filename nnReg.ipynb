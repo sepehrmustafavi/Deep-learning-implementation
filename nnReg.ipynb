{
  "cells": [
    {
      "cell_type": "code",
      "source": [
        "import tensorflow as tf\n",
        "import matplotlib.pyplot as plt\n",
        "from sklearn.datasets import make_regression\n",
        "from sklearn.preprocessing import StandardScaler\n",
        "from sklearn.model_selection import train_test_split"
      ],
      "metadata": {
        "id": "IjzBMdY4i-NL"
      },
      "execution_count": 12,
      "outputs": []
    },
    {
      "cell_type": "code",
      "source": [
        "data = make_regression(n_samples=5000 , n_features=3)"
      ],
      "metadata": {
        "id": "5d6T13q9jamm"
      },
      "execution_count": 2,
      "outputs": []
    },
    {
      "cell_type": "code",
      "source": [
        "data"
      ],
      "metadata": {
        "colab": {
          "base_uri": "https://localhost:8080/"
        },
        "id": "YaEoFwu2jrj0",
        "outputId": "3529f28f-676d-430d-b65a-e8f6bb6269cf"
      },
      "execution_count": 5,
      "outputs": [
        {
          "output_type": "execute_result",
          "data": {
            "text/plain": [
              "(array([[ 3.08230108e-01, -1.14498096e+00, -4.22709205e-01],\n",
              "        [ 6.80298884e-04,  3.76395316e-01, -9.88438704e-01],\n",
              "        [-2.53211653e-01, -3.87550889e-01,  3.60308541e-01],\n",
              "        ...,\n",
              "        [ 5.72550242e-01,  3.19114085e-01,  3.02726817e-01],\n",
              "        [-8.68782974e-02,  1.87532735e+00, -6.98142714e-01],\n",
              "        [ 1.00330821e+00,  1.68628407e+00,  2.25197003e+00]]),\n",
              " array([-60.47052418, -56.41437346,   3.12832918, ...,  52.02266328,\n",
              "         14.74901625, 253.1690869 ]))"
            ]
          },
          "metadata": {},
          "execution_count": 5
        }
      ]
    },
    {
      "cell_type": "code",
      "source": [
        "x = data[0]"
      ],
      "metadata": {
        "id": "NlPTfqkaju4u"
      },
      "execution_count": 6,
      "outputs": []
    },
    {
      "cell_type": "code",
      "source": [
        "y = data[1]"
      ],
      "metadata": {
        "id": "iKU2ClkLkCq7"
      },
      "execution_count": 7,
      "outputs": []
    },
    {
      "cell_type": "code",
      "source": [
        "x.shape"
      ],
      "metadata": {
        "colab": {
          "base_uri": "https://localhost:8080/"
        },
        "id": "tn0WSIjmkFNt",
        "outputId": "c4d7f4ec-afd7-4b73-bde8-86da91bd0ffc"
      },
      "execution_count": 9,
      "outputs": [
        {
          "output_type": "execute_result",
          "data": {
            "text/plain": [
              "(5000, 3)"
            ]
          },
          "metadata": {},
          "execution_count": 9
        }
      ]
    },
    {
      "cell_type": "code",
      "source": [
        "y.shape"
      ],
      "metadata": {
        "colab": {
          "base_uri": "https://localhost:8080/"
        },
        "id": "DQgOAWfskJAE",
        "outputId": "5035fa49-c3ff-4c1f-f235-7a33e5dcc23d"
      },
      "execution_count": 10,
      "outputs": [
        {
          "output_type": "execute_result",
          "data": {
            "text/plain": [
              "(5000,)"
            ]
          },
          "metadata": {},
          "execution_count": 10
        }
      ]
    },
    {
      "cell_type": "code",
      "source": [
        "x_train , x_test , y_train , y_test = train_test_split(x , y , test_size=0.2)"
      ],
      "metadata": {
        "id": "mwDXkte-krIh"
      },
      "execution_count": 13,
      "outputs": []
    },
    {
      "cell_type": "code",
      "source": [
        "scale = StandardScaler()\n",
        "x_train = scale.fit_transform(x_train)\n",
        "x_test = scale.fit_transform(x_test)"
      ],
      "metadata": {
        "id": "xvA8iayxkNeV"
      },
      "execution_count": 14,
      "outputs": []
    },
    {
      "cell_type": "code",
      "source": [
        "model = tf.keras.models.Sequential(\n",
        "    [\n",
        "        tf.keras.layers.Input(shape=(3 , )),\n",
        "        tf.keras.layers.Dense(units=265 , activation='relu'),\n",
        "        tf.keras.layers.Dropout(0.5),\n",
        "        tf.keras.layers.Dense(units=128 , activation='relu'),\n",
        "        tf.keras.layers.Dense(units=1 , activation='linear')\n",
        "    ]\n",
        ")"
      ],
      "metadata": {
        "id": "cThJFu3Dldx9"
      },
      "execution_count": 56,
      "outputs": []
    },
    {
      "cell_type": "code",
      "source": [
        "model.summary()"
      ],
      "metadata": {
        "colab": {
          "base_uri": "https://localhost:8080/",
          "height": 265
        },
        "id": "dJe1eNPso81m",
        "outputId": "86621828-f0ff-4164-a8a7-5417237285f3"
      },
      "execution_count": 57,
      "outputs": [
        {
          "output_type": "display_data",
          "data": {
            "text/plain": [
              "\u001b[1mModel: \"sequential_8\"\u001b[0m\n"
            ],
            "text/html": [
              "<pre style=\"white-space:pre;overflow-x:auto;line-height:normal;font-family:Menlo,'DejaVu Sans Mono',consolas,'Courier New',monospace\"><span style=\"font-weight: bold\">Model: \"sequential_8\"</span>\n",
              "</pre>\n"
            ]
          },
          "metadata": {}
        },
        {
          "output_type": "display_data",
          "data": {
            "text/plain": [
              "┏━━━━━━━━━━━━━━━━━━━━━━━━━━━━━━━━━━━━━━┳━━━━━━━━━━━━━━━━━━━━━━━━━━━━━┳━━━━━━━━━━━━━━━━━┓\n",
              "┃\u001b[1m \u001b[0m\u001b[1mLayer (type)                        \u001b[0m\u001b[1m \u001b[0m┃\u001b[1m \u001b[0m\u001b[1mOutput Shape               \u001b[0m\u001b[1m \u001b[0m┃\u001b[1m \u001b[0m\u001b[1m        Param #\u001b[0m\u001b[1m \u001b[0m┃\n",
              "┡━━━━━━━━━━━━━━━━━━━━━━━━━━━━━━━━━━━━━━╇━━━━━━━━━━━━━━━━━━━━━━━━━━━━━╇━━━━━━━━━━━━━━━━━┩\n",
              "│ dense_27 (\u001b[38;5;33mDense\u001b[0m)                     │ (\u001b[38;5;45mNone\u001b[0m, \u001b[38;5;34m265\u001b[0m)                 │           \u001b[38;5;34m1,060\u001b[0m │\n",
              "├──────────────────────────────────────┼─────────────────────────────┼─────────────────┤\n",
              "│ dropout_17 (\u001b[38;5;33mDropout\u001b[0m)                 │ (\u001b[38;5;45mNone\u001b[0m, \u001b[38;5;34m265\u001b[0m)                 │               \u001b[38;5;34m0\u001b[0m │\n",
              "├──────────────────────────────────────┼─────────────────────────────┼─────────────────┤\n",
              "│ dense_28 (\u001b[38;5;33mDense\u001b[0m)                     │ (\u001b[38;5;45mNone\u001b[0m, \u001b[38;5;34m128\u001b[0m)                 │          \u001b[38;5;34m34,048\u001b[0m │\n",
              "├──────────────────────────────────────┼─────────────────────────────┼─────────────────┤\n",
              "│ dense_29 (\u001b[38;5;33mDense\u001b[0m)                     │ (\u001b[38;5;45mNone\u001b[0m, \u001b[38;5;34m1\u001b[0m)                   │             \u001b[38;5;34m129\u001b[0m │\n",
              "└──────────────────────────────────────┴─────────────────────────────┴─────────────────┘\n"
            ],
            "text/html": [
              "<pre style=\"white-space:pre;overflow-x:auto;line-height:normal;font-family:Menlo,'DejaVu Sans Mono',consolas,'Courier New',monospace\">┏━━━━━━━━━━━━━━━━━━━━━━━━━━━━━━━━━━━━━━┳━━━━━━━━━━━━━━━━━━━━━━━━━━━━━┳━━━━━━━━━━━━━━━━━┓\n",
              "┃<span style=\"font-weight: bold\"> Layer (type)                         </span>┃<span style=\"font-weight: bold\"> Output Shape                </span>┃<span style=\"font-weight: bold\">         Param # </span>┃\n",
              "┡━━━━━━━━━━━━━━━━━━━━━━━━━━━━━━━━━━━━━━╇━━━━━━━━━━━━━━━━━━━━━━━━━━━━━╇━━━━━━━━━━━━━━━━━┩\n",
              "│ dense_27 (<span style=\"color: #0087ff; text-decoration-color: #0087ff\">Dense</span>)                     │ (<span style=\"color: #00d7ff; text-decoration-color: #00d7ff\">None</span>, <span style=\"color: #00af00; text-decoration-color: #00af00\">265</span>)                 │           <span style=\"color: #00af00; text-decoration-color: #00af00\">1,060</span> │\n",
              "├──────────────────────────────────────┼─────────────────────────────┼─────────────────┤\n",
              "│ dropout_17 (<span style=\"color: #0087ff; text-decoration-color: #0087ff\">Dropout</span>)                 │ (<span style=\"color: #00d7ff; text-decoration-color: #00d7ff\">None</span>, <span style=\"color: #00af00; text-decoration-color: #00af00\">265</span>)                 │               <span style=\"color: #00af00; text-decoration-color: #00af00\">0</span> │\n",
              "├──────────────────────────────────────┼─────────────────────────────┼─────────────────┤\n",
              "│ dense_28 (<span style=\"color: #0087ff; text-decoration-color: #0087ff\">Dense</span>)                     │ (<span style=\"color: #00d7ff; text-decoration-color: #00d7ff\">None</span>, <span style=\"color: #00af00; text-decoration-color: #00af00\">128</span>)                 │          <span style=\"color: #00af00; text-decoration-color: #00af00\">34,048</span> │\n",
              "├──────────────────────────────────────┼─────────────────────────────┼─────────────────┤\n",
              "│ dense_29 (<span style=\"color: #0087ff; text-decoration-color: #0087ff\">Dense</span>)                     │ (<span style=\"color: #00d7ff; text-decoration-color: #00d7ff\">None</span>, <span style=\"color: #00af00; text-decoration-color: #00af00\">1</span>)                   │             <span style=\"color: #00af00; text-decoration-color: #00af00\">129</span> │\n",
              "└──────────────────────────────────────┴─────────────────────────────┴─────────────────┘\n",
              "</pre>\n"
            ]
          },
          "metadata": {}
        },
        {
          "output_type": "display_data",
          "data": {
            "text/plain": [
              "\u001b[1m Total params: \u001b[0m\u001b[38;5;34m35,237\u001b[0m (137.64 KB)\n"
            ],
            "text/html": [
              "<pre style=\"white-space:pre;overflow-x:auto;line-height:normal;font-family:Menlo,'DejaVu Sans Mono',consolas,'Courier New',monospace\"><span style=\"font-weight: bold\"> Total params: </span><span style=\"color: #00af00; text-decoration-color: #00af00\">35,237</span> (137.64 KB)\n",
              "</pre>\n"
            ]
          },
          "metadata": {}
        },
        {
          "output_type": "display_data",
          "data": {
            "text/plain": [
              "\u001b[1m Trainable params: \u001b[0m\u001b[38;5;34m35,237\u001b[0m (137.64 KB)\n"
            ],
            "text/html": [
              "<pre style=\"white-space:pre;overflow-x:auto;line-height:normal;font-family:Menlo,'DejaVu Sans Mono',consolas,'Courier New',monospace\"><span style=\"font-weight: bold\"> Trainable params: </span><span style=\"color: #00af00; text-decoration-color: #00af00\">35,237</span> (137.64 KB)\n",
              "</pre>\n"
            ]
          },
          "metadata": {}
        },
        {
          "output_type": "display_data",
          "data": {
            "text/plain": [
              "\u001b[1m Non-trainable params: \u001b[0m\u001b[38;5;34m0\u001b[0m (0.00 B)\n"
            ],
            "text/html": [
              "<pre style=\"white-space:pre;overflow-x:auto;line-height:normal;font-family:Menlo,'DejaVu Sans Mono',consolas,'Courier New',monospace\"><span style=\"font-weight: bold\"> Non-trainable params: </span><span style=\"color: #00af00; text-decoration-color: #00af00\">0</span> (0.00 B)\n",
              "</pre>\n"
            ]
          },
          "metadata": {}
        }
      ]
    },
    {
      "cell_type": "code",
      "source": [
        "los = tf.keras.losses.MeanSquaredError()\n",
        "opt = tf.keras.optimizers.SGD(learning_rate=0.001 , momentum=0.4)\n",
        "model.compile(loss=los , optimizer=opt)"
      ],
      "metadata": {
        "id": "eb3XludhpB8n"
      },
      "execution_count": 58,
      "outputs": []
    },
    {
      "cell_type": "code",
      "source": [
        "model.fit(x_train , y_train , epochs=100 , batch_size=50 , verbose=2)"
      ],
      "metadata": {
        "colab": {
          "base_uri": "https://localhost:8080/"
        },
        "id": "-N4p29MRpuqe",
        "outputId": "a8207bf4-7d8b-4ffd-f407-e940fd081fef"
      },
      "execution_count": 59,
      "outputs": [
        {
          "output_type": "stream",
          "name": "stdout",
          "text": [
            "Epoch 1/100\n",
            "80/80 - 2s - 25ms/step - loss: 1020.4747\n",
            "Epoch 2/100\n",
            "80/80 - 1s - 16ms/step - loss: 106.4480\n",
            "Epoch 3/100\n",
            "80/80 - 0s - 1ms/step - loss: 102.0822\n",
            "Epoch 4/100\n",
            "80/80 - 0s - 1ms/step - loss: 80.2035\n",
            "Epoch 5/100\n",
            "80/80 - 0s - 2ms/step - loss: 76.6417\n",
            "Epoch 6/100\n",
            "80/80 - 0s - 2ms/step - loss: 78.7472\n",
            "Epoch 7/100\n",
            "80/80 - 0s - 1ms/step - loss: 71.8056\n",
            "Epoch 8/100\n",
            "80/80 - 0s - 1ms/step - loss: 73.2213\n",
            "Epoch 9/100\n",
            "80/80 - 0s - 2ms/step - loss: 76.1057\n",
            "Epoch 10/100\n",
            "80/80 - 0s - 1ms/step - loss: 72.9091\n",
            "Epoch 11/100\n",
            "80/80 - 0s - 2ms/step - loss: 69.9150\n",
            "Epoch 12/100\n",
            "80/80 - 0s - 2ms/step - loss: 63.7000\n",
            "Epoch 13/100\n",
            "80/80 - 0s - 2ms/step - loss: 71.1226\n",
            "Epoch 14/100\n",
            "80/80 - 0s - 1ms/step - loss: 74.7228\n",
            "Epoch 15/100\n",
            "80/80 - 0s - 1ms/step - loss: 68.0235\n",
            "Epoch 16/100\n",
            "80/80 - 0s - 1ms/step - loss: 63.5005\n",
            "Epoch 17/100\n",
            "80/80 - 0s - 1ms/step - loss: 61.2539\n",
            "Epoch 18/100\n",
            "80/80 - 0s - 1ms/step - loss: 63.0429\n",
            "Epoch 19/100\n",
            "80/80 - 0s - 2ms/step - loss: 62.7699\n",
            "Epoch 20/100\n",
            "80/80 - 0s - 1ms/step - loss: 54.1371\n",
            "Epoch 21/100\n",
            "80/80 - 0s - 2ms/step - loss: 63.4441\n",
            "Epoch 22/100\n",
            "80/80 - 0s - 1ms/step - loss: 59.5536\n",
            "Epoch 23/100\n",
            "80/80 - 0s - 1ms/step - loss: 53.3845\n",
            "Epoch 24/100\n",
            "80/80 - 0s - 2ms/step - loss: 55.7443\n",
            "Epoch 25/100\n",
            "80/80 - 0s - 1ms/step - loss: 61.5001\n",
            "Epoch 26/100\n",
            "80/80 - 0s - 2ms/step - loss: 51.8136\n",
            "Epoch 27/100\n",
            "80/80 - 0s - 2ms/step - loss: 61.2361\n",
            "Epoch 28/100\n",
            "80/80 - 0s - 2ms/step - loss: 51.3813\n",
            "Epoch 29/100\n",
            "80/80 - 0s - 2ms/step - loss: 47.8326\n",
            "Epoch 30/100\n",
            "80/80 - 0s - 1ms/step - loss: 59.7851\n",
            "Epoch 31/100\n",
            "80/80 - 0s - 2ms/step - loss: 49.2980\n",
            "Epoch 32/100\n",
            "80/80 - 0s - 2ms/step - loss: 59.0347\n",
            "Epoch 33/100\n",
            "80/80 - 0s - 2ms/step - loss: 55.2467\n",
            "Epoch 34/100\n",
            "80/80 - 0s - 2ms/step - loss: 51.1195\n",
            "Epoch 35/100\n",
            "80/80 - 0s - 1ms/step - loss: 56.5907\n",
            "Epoch 36/100\n",
            "80/80 - 0s - 2ms/step - loss: 44.1612\n",
            "Epoch 37/100\n",
            "80/80 - 0s - 2ms/step - loss: 51.7220\n",
            "Epoch 38/100\n",
            "80/80 - 0s - 2ms/step - loss: 46.9870\n",
            "Epoch 39/100\n",
            "80/80 - 0s - 1ms/step - loss: 51.8638\n",
            "Epoch 40/100\n",
            "80/80 - 0s - 2ms/step - loss: 45.7611\n",
            "Epoch 41/100\n",
            "80/80 - 0s - 1ms/step - loss: 47.7282\n",
            "Epoch 42/100\n",
            "80/80 - 0s - 1ms/step - loss: 47.7727\n",
            "Epoch 43/100\n",
            "80/80 - 0s - 2ms/step - loss: 44.1944\n",
            "Epoch 44/100\n",
            "80/80 - 0s - 2ms/step - loss: 44.4259\n",
            "Epoch 45/100\n",
            "80/80 - 0s - 1ms/step - loss: 49.8766\n",
            "Epoch 46/100\n",
            "80/80 - 0s - 1ms/step - loss: 46.8924\n",
            "Epoch 47/100\n",
            "80/80 - 0s - 2ms/step - loss: 51.9222\n",
            "Epoch 48/100\n",
            "80/80 - 0s - 1ms/step - loss: 49.5710\n",
            "Epoch 49/100\n",
            "80/80 - 0s - 2ms/step - loss: 46.8994\n",
            "Epoch 50/100\n",
            "80/80 - 0s - 2ms/step - loss: 43.7036\n",
            "Epoch 51/100\n",
            "80/80 - 0s - 2ms/step - loss: 40.9724\n",
            "Epoch 52/100\n",
            "80/80 - 0s - 2ms/step - loss: 40.6607\n",
            "Epoch 53/100\n",
            "80/80 - 0s - 2ms/step - loss: 43.5263\n",
            "Epoch 54/100\n",
            "80/80 - 0s - 1ms/step - loss: 41.9580\n",
            "Epoch 55/100\n",
            "80/80 - 0s - 1ms/step - loss: 44.8790\n",
            "Epoch 56/100\n",
            "80/80 - 0s - 1ms/step - loss: 49.2517\n",
            "Epoch 57/100\n",
            "80/80 - 0s - 2ms/step - loss: 46.0994\n",
            "Epoch 58/100\n",
            "80/80 - 0s - 2ms/step - loss: 37.6871\n",
            "Epoch 59/100\n",
            "80/80 - 0s - 1ms/step - loss: 35.6280\n",
            "Epoch 60/100\n",
            "80/80 - 0s - 1ms/step - loss: 40.1792\n",
            "Epoch 61/100\n",
            "80/80 - 0s - 1ms/step - loss: 38.6979\n",
            "Epoch 62/100\n",
            "80/80 - 0s - 2ms/step - loss: 37.4439\n",
            "Epoch 63/100\n",
            "80/80 - 0s - 2ms/step - loss: 44.5041\n",
            "Epoch 64/100\n",
            "80/80 - 0s - 2ms/step - loss: 46.9754\n",
            "Epoch 65/100\n",
            "80/80 - 0s - 2ms/step - loss: 36.8452\n",
            "Epoch 66/100\n",
            "80/80 - 0s - 2ms/step - loss: 49.6482\n",
            "Epoch 67/100\n",
            "80/80 - 0s - 2ms/step - loss: 39.7071\n",
            "Epoch 68/100\n",
            "80/80 - 0s - 1ms/step - loss: 38.4290\n",
            "Epoch 69/100\n",
            "80/80 - 0s - 2ms/step - loss: 34.2479\n",
            "Epoch 70/100\n",
            "80/80 - 0s - 2ms/step - loss: 31.1405\n",
            "Epoch 71/100\n",
            "80/80 - 0s - 2ms/step - loss: 33.3373\n",
            "Epoch 72/100\n",
            "80/80 - 0s - 4ms/step - loss: 35.9241\n",
            "Epoch 73/100\n",
            "80/80 - 0s - 4ms/step - loss: 36.5993\n",
            "Epoch 74/100\n",
            "80/80 - 0s - 2ms/step - loss: 42.5915\n",
            "Epoch 75/100\n",
            "80/80 - 0s - 4ms/step - loss: 39.1576\n",
            "Epoch 76/100\n",
            "80/80 - 0s - 3ms/step - loss: 34.9872\n",
            "Epoch 77/100\n",
            "80/80 - 0s - 2ms/step - loss: 35.9006\n",
            "Epoch 78/100\n",
            "80/80 - 0s - 3ms/step - loss: 37.6912\n",
            "Epoch 79/100\n",
            "80/80 - 0s - 1ms/step - loss: 43.9803\n",
            "Epoch 80/100\n",
            "80/80 - 0s - 1ms/step - loss: 39.4418\n",
            "Epoch 81/100\n",
            "80/80 - 0s - 2ms/step - loss: 33.7326\n",
            "Epoch 82/100\n",
            "80/80 - 0s - 2ms/step - loss: 40.6319\n",
            "Epoch 83/100\n",
            "80/80 - 0s - 1ms/step - loss: 34.3608\n",
            "Epoch 84/100\n",
            "80/80 - 0s - 2ms/step - loss: 37.2986\n",
            "Epoch 85/100\n",
            "80/80 - 0s - 1ms/step - loss: 35.7794\n",
            "Epoch 86/100\n",
            "80/80 - 0s - 2ms/step - loss: 34.0989\n",
            "Epoch 87/100\n",
            "80/80 - 0s - 2ms/step - loss: 33.1574\n",
            "Epoch 88/100\n",
            "80/80 - 0s - 1ms/step - loss: 39.7255\n",
            "Epoch 89/100\n",
            "80/80 - 0s - 2ms/step - loss: 32.8554\n",
            "Epoch 90/100\n",
            "80/80 - 0s - 2ms/step - loss: 32.1359\n",
            "Epoch 91/100\n",
            "80/80 - 0s - 2ms/step - loss: 29.4613\n",
            "Epoch 92/100\n",
            "80/80 - 0s - 1ms/step - loss: 40.1641\n",
            "Epoch 93/100\n",
            "80/80 - 0s - 1ms/step - loss: 37.0036\n",
            "Epoch 94/100\n",
            "80/80 - 0s - 1ms/step - loss: 31.5432\n",
            "Epoch 95/100\n",
            "80/80 - 0s - 2ms/step - loss: 31.9282\n",
            "Epoch 96/100\n",
            "80/80 - 0s - 1ms/step - loss: 37.1466\n",
            "Epoch 97/100\n",
            "80/80 - 0s - 2ms/step - loss: 32.1829\n",
            "Epoch 98/100\n",
            "80/80 - 0s - 1ms/step - loss: 34.5679\n",
            "Epoch 99/100\n",
            "80/80 - 0s - 1ms/step - loss: 31.7021\n",
            "Epoch 100/100\n",
            "80/80 - 0s - 2ms/step - loss: 33.8609\n"
          ]
        },
        {
          "output_type": "execute_result",
          "data": {
            "text/plain": [
              "<keras.src.callbacks.history.History at 0x796804eab0a0>"
            ]
          },
          "metadata": {},
          "execution_count": 59
        }
      ]
    },
    {
      "cell_type": "code",
      "source": [
        "model.evaluate(x_train , y_train)"
      ],
      "metadata": {
        "colab": {
          "base_uri": "https://localhost:8080/"
        },
        "id": "Zwtn8EsPqDDV",
        "outputId": "403dd5bd-28cf-4113-935d-b2463837711a"
      },
      "execution_count": 60,
      "outputs": [
        {
          "output_type": "stream",
          "name": "stdout",
          "text": [
            "\u001b[1m125/125\u001b[0m \u001b[32m━━━━━━━━━━━━━━━━━━━━\u001b[0m\u001b[37m\u001b[0m \u001b[1m0s\u001b[0m 1ms/step - loss: 6.3710\n"
          ]
        },
        {
          "output_type": "execute_result",
          "data": {
            "text/plain": [
              "6.625248432159424"
            ]
          },
          "metadata": {},
          "execution_count": 60
        }
      ]
    },
    {
      "cell_type": "code",
      "source": [
        "model.evaluate(x_test , y_test)"
      ],
      "metadata": {
        "colab": {
          "base_uri": "https://localhost:8080/"
        },
        "id": "ly-J6RpVqcqi",
        "outputId": "adf8f9e8-6883-4187-9e22-21dbaa6c7c16"
      },
      "execution_count": 61,
      "outputs": [
        {
          "output_type": "stream",
          "name": "stdout",
          "text": [
            "\u001b[1m32/32\u001b[0m \u001b[32m━━━━━━━━━━━━━━━━━━━━\u001b[0m\u001b[37m\u001b[0m \u001b[1m0s\u001b[0m 9ms/step - loss: 4.3652\n"
          ]
        },
        {
          "output_type": "execute_result",
          "data": {
            "text/plain": [
              "4.059194564819336"
            ]
          },
          "metadata": {},
          "execution_count": 61
        }
      ]
    },
    {
      "cell_type": "code",
      "source": [
        "y_pred = model.predict(x_test)"
      ],
      "metadata": {
        "colab": {
          "base_uri": "https://localhost:8080/"
        },
        "id": "1NO3luYXqknc",
        "outputId": "4f5e7f99-bf7f-4c75-bef1-7121c418daac"
      },
      "execution_count": 62,
      "outputs": [
        {
          "output_type": "stream",
          "name": "stdout",
          "text": [
            "\u001b[1m32/32\u001b[0m \u001b[32m━━━━━━━━━━━━━━━━━━━━\u001b[0m\u001b[37m\u001b[0m \u001b[1m0s\u001b[0m 7ms/step\n"
          ]
        }
      ]
    },
    {
      "cell_type": "code",
      "source": [
        "y_test.shape"
      ],
      "metadata": {
        "colab": {
          "base_uri": "https://localhost:8080/"
        },
        "id": "mfTN6HmitoCd",
        "outputId": "46bff1f0-4cb7-43d8-a87a-2932e4cfffbb"
      },
      "execution_count": 63,
      "outputs": [
        {
          "output_type": "execute_result",
          "data": {
            "text/plain": [
              "(1000,)"
            ]
          },
          "metadata": {},
          "execution_count": 63
        }
      ]
    },
    {
      "cell_type": "code",
      "source": [
        "y_pred.shape"
      ],
      "metadata": {
        "colab": {
          "base_uri": "https://localhost:8080/"
        },
        "id": "Tch8QlPKtvKX",
        "outputId": "c37e74ed-6c92-403c-d89d-fac85a329beb"
      },
      "execution_count": 64,
      "outputs": [
        {
          "output_type": "execute_result",
          "data": {
            "text/plain": [
              "(1000, 1)"
            ]
          },
          "metadata": {},
          "execution_count": 64
        }
      ]
    },
    {
      "cell_type": "code",
      "source": [
        "plt.scatter(y_pred , range(1000) , color = 'green')\n",
        "plt.scatter(y_test , range(1000) , color = 'orange')\n",
        "plt.show()\n"
      ],
      "metadata": {
        "colab": {
          "base_uri": "https://localhost:8080/",
          "height": 430
        },
        "id": "vll5B_d1txiF",
        "outputId": "e866bd24-3c11-496c-9099-dace51f96b1b"
      },
      "execution_count": 69,
      "outputs": [
        {
          "output_type": "display_data",
          "data": {
            "text/plain": [
              "<Figure size 640x480 with 1 Axes>"
            ],
            "image/png": "[encoded data removed]"
          },
          "metadata": {}
        }
      ]
    },
    {
      "cell_type": "code",
      "source": [],
      "metadata": {
        "id": "3imKgzK7uInC"
      },
      "execution_count": null,
      "outputs": []
    }
  ],
  "metadata": {
    "colab": {
      "provenance": [],
      "gpuType": "T4"
    },
    "kernelspec": {
      "display_name": "Python 3",
      "name": "python3"
    },
    "language_info": {
      "name": "python"
    },
    "accelerator": "GPU"
  },
  "nbformat": 4,
  "nbformat_minor": 0
}